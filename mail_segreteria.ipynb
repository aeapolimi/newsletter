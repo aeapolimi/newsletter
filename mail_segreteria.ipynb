{
 "cells": [
  {
   "cell_type": "code",
   "execution_count": 2,
   "metadata": {},
   "outputs": [],
   "source": [
    "from smtplib import SMTP_SSL\n",
    "from email.message import EmailMessage"
   ]
  },
  {
   "cell_type": "code",
   "execution_count": 3,
   "metadata": {},
   "outputs": [],
   "source": [
    "import pandas as pd"
   ]
  },
  {
   "cell_type": "code",
   "execution_count": 4,
   "metadata": {},
   "outputs": [],
   "source": [
    "import password"
   ]
  },
  {
   "cell_type": "code",
   "execution_count": 5,
   "metadata": {},
   "outputs": [],
   "source": [
    "destinatari = pd.read_excel(\"AEAround the World - 22 Dicembre ore 21_30(1-97).xlsx\")[\"Posta elettronica\"].unique()"
   ]
  },
  {
   "cell_type": "code",
   "execution_count": 9,
   "metadata": {},
   "outputs": [],
   "source": [
    "messaggio = \"\"\"Gentilissima/o, \n",
    "\n",
    "Il link all'evento di stasera alle 21.30 è https://polimi-it.zoom.us/j/85442361591\n",
    "\n",
    "Buona serata,\n",
    "Il team di AEA Polimi\n",
    "www.aeapolimi.it\n",
    "\"\"\""
   ]
  },
  {
   "cell_type": "code",
   "execution_count": 17,
   "metadata": {},
   "outputs": [],
   "source": [
    "def invia_mail(s,f):\n",
    "    s = SMTP_SSL(host='smtp.office365.com', port=587)\n",
    "    s.login(\"segreteria@aeapolimi.it\", password.segreteria)\n",
    "    msg = EmailMessage()\n",
    "    msg.set_content(messaggio)\n",
    "    msg['Subject'] = 'Link zoom evento AEAround The World'\n",
    "    msg['From'] = \"segreteria@aeapolimi.it\"\n",
    "    msg['Bcc'] = \", \".join(destinatari[s:f])\n",
    "    s.send_message(msg)\n",
    "    s.quit()"
   ]
  },
  {
   "cell_type": "code",
   "execution_count": 45,
   "metadata": {},
   "outputs": [
    {
     "ename": "SyntaxError",
     "evalue": "unexpected EOF while parsing (<ipython-input-45-e37580926143>, line 2)",
     "output_type": "error",
     "traceback": [
      "\u001b[0;36m  File \u001b[0;32m\"<ipython-input-45-e37580926143>\"\u001b[0;36m, line \u001b[0;32m2\u001b[0m\n\u001b[0;31m    #invia_mail(s,f)\u001b[0m\n\u001b[0m                    ^\u001b[0m\n\u001b[0;31mSyntaxError\u001b[0m\u001b[0;31m:\u001b[0m unexpected EOF while parsing\n"
     ]
    }
   ],
   "source": [
    "#for s,f in [[0,100], [100,200], [200,len(destinatari)]]:\n",
    "    #invia_mail(s,f)"
   ]
  },
  {
   "cell_type": "code",
   "execution_count": 18,
   "metadata": {},
   "outputs": [],
   "source": [
    "#invia_mail(0,97)"
   ]
  }
 ],
 "metadata": {
  "kernelspec": {
   "display_name": "ML",
   "language": "python",
   "name": "ml"
  },
  "language_info": {
   "codemirror_mode": {
    "name": "ipython",
    "version": 3
   },
   "file_extension": ".py",
   "mimetype": "text/x-python",
   "name": "python",
   "nbconvert_exporter": "python",
   "pygments_lexer": "ipython3",
   "version": "3.6.8"
  }
 },
 "nbformat": 4,
 "nbformat_minor": 2
}
