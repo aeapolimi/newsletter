{
 "cells": [
  {
   "cell_type": "code",
   "execution_count": 40,
   "metadata": {},
   "outputs": [],
   "source": [
    "from smtplib import SMTP_SSL\n",
    "from email.message import EmailMessage"
   ]
  },
  {
   "cell_type": "code",
   "execution_count": 41,
   "metadata": {},
   "outputs": [],
   "source": [
    "import pandas as pd"
   ]
  },
  {
   "cell_type": "code",
   "execution_count": 1,
   "metadata": {},
   "outputs": [],
   "source": [
    "password = \"\""
   ]
  },
  {
   "cell_type": "code",
   "execution_count": 42,
   "metadata": {},
   "outputs": [],
   "source": [
    "destinatari = pd.read_excel(\"Indy Autonomous Challenge - Prof. Savaresi_December 4th - 18_00(1-296).xlsx\")[\"Posta elettronica\"].unique()"
   ]
  },
  {
   "cell_type": "code",
   "execution_count": 43,
   "metadata": {},
   "outputs": [],
   "source": [
    "messaggio = \"\"\"Gentilissima/o, \n",
    "\n",
    "innanzitutto ti ringraziamo per aver partecipato all'evento di venerdì!\n",
    "\n",
    "Poi vorremmo chiederti di compilare questo breve sondaggio anonimo, grazie al tuo commento saremo capaci di migliorare. \n",
    "\n",
    "Link sondaggio: https://forms.office.com/Pages/ResponsePage.aspx?id=K3EXCvNtXUKAjjCd8ope69qLTtfc8tBBrOc094iY8J1UNlI4QUgwOUU5UkJVTUhaQkFCWjZIRVg5Si4u\n",
    "\n",
    "Grazie nuovamente per la partecipazione, alla prossima. \n",
    "\n",
    "Il team di AEA Polimi\n",
    "www.aeapolimi.it\n",
    "\"\"\""
   ]
  },
  {
   "cell_type": "code",
   "execution_count": 44,
   "metadata": {},
   "outputs": [],
   "source": [
    "def invia_mail(s,f):\n",
    "    s = SMTP_SSL(host='smtps.aruba.it', port=465)\n",
    "    s.login(\"segreteria@aeapolimi.it\", password)\n",
    "    msg = EmailMessage()\n",
    "    msg.set_content(messaggio)\n",
    "    msg['Subject'] = 'Feedback evento AEA Meets prof. Savaresi'\n",
    "    msg['From'] = \"segreteria@aeapolimi.it\"\n",
    "    msg['Bcc'] = \", \".join(destinatari[s:f])\n",
    "    s.send_message(msg)\n",
    "    s.quit()"
   ]
  },
  {
   "cell_type": "code",
   "execution_count": 45,
   "metadata": {},
   "outputs": [
    {
     "ename": "SyntaxError",
     "evalue": "unexpected EOF while parsing (<ipython-input-45-e37580926143>, line 2)",
     "output_type": "error",
     "traceback": [
      "\u001b[0;36m  File \u001b[0;32m\"<ipython-input-45-e37580926143>\"\u001b[0;36m, line \u001b[0;32m2\u001b[0m\n\u001b[0;31m    #invia_mail(s,f)\u001b[0m\n\u001b[0m                    ^\u001b[0m\n\u001b[0;31mSyntaxError\u001b[0m\u001b[0;31m:\u001b[0m unexpected EOF while parsing\n"
     ]
    }
   ],
   "source": [
    "for s,f in [[0,100], [100,200], [200,len(destinatari)]]:\n",
    "    invia_mail(s,f)"
   ]
  }
 ],
 "metadata": {
  "kernelspec": {
   "display_name": "ML",
   "language": "python",
   "name": "ml"
  },
  "language_info": {
   "codemirror_mode": {
    "name": "ipython",
    "version": 3
   },
   "file_extension": ".py",
   "mimetype": "text/x-python",
   "name": "python",
   "nbconvert_exporter": "python",
   "pygments_lexer": "ipython3",
   "version": "3.6.8"
  }
 },
 "nbformat": 4,
 "nbformat_minor": 2
}
