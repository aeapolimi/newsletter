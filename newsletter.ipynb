{
 "cells": [
  {
   "cell_type": "code",
   "execution_count": 1,
   "metadata": {},
   "outputs": [],
   "source": [
    "from smtplib import SMTP_SSL\n",
    "from email.message import EmailMessage\n",
    "import glob\n",
    "\n",
    "import firebase_admin\n",
    "from firebase_admin import credentials\n",
    "from firebase_admin import firestore\n",
    "\n",
    "import password\n",
    "\n",
    "cred = credentials.Certificate(glob.glob(\"./aeapolimiweb-firebase*.json\")[0])\n",
    "firebase_admin.initialize_app(cred)\n",
    "\n",
    "db = firestore.client()"
   ]
  },
  {
   "cell_type": "code",
   "execution_count": 2,
   "metadata": {},
   "outputs": [],
   "source": [
    "messaggio = \"\"\"\n",
    "English version below.\n",
    "\n",
    "Buongiorno,\n",
    "Vi segnalo il prossimo evento di AEA: AEAround The World.\n",
    "Questa volta alcuni studenti di Automazione di recente tornati da Erasmus e doppie lauree in varie parti del mondo\n",
    "ci racconteranno la loro esperienza, in particolare per quanto riguarda i corsi di Automazione.\n",
    "\n",
    "L'evento sarà su Zoom, alle 21,30 di martedì 22 dicembre.\n",
    "\n",
    "Potete iscrivervi al seguente link: https://forms.office.com/Pages/ResponsePage.aspx?id=K3EXCvNtXUKAjjCd8ope69qLTtfc8tBBrOc094iY8J1UQzg0WVpaNUxLVkFYMk4yQU4zVVNUQUVBTC4u\n",
    "\n",
    "Buone feste,\n",
    "Team AEA\n",
    "www.aeapolimi.it\n",
    "\n",
    "\n",
    "Dear,\n",
    "Our next event will be AEAround The World.\n",
    "This time Automation students who recently returned from Erasmus or double degrees will tell us their experience\n",
    "focusing on what concerns Automation.\n",
    "The event will be held in Italian (just because it's unlikely that a non-italian speaker in Milan wants to go on Erasmus),\n",
    "on Zoom, the 22nd of December at 21.30.\n",
    "\n",
    "You can register at the following link: https://forms.office.com/Pages/ResponsePage.aspx?id=K3EXCvNtXUKAjjCd8ope69qLTtfc8tBBrOc094iY8J1UQzg0WVpaNUxLVkFYMk4yQU4zVVNUQUVBTC4u\n",
    "\n",
    "Happy Holidays,\n",
    "AEA Team\n",
    "www.aeapolimi.it\n",
    "\"\"\""
   ]
  },
  {
   "cell_type": "code",
   "execution_count": 3,
   "metadata": {},
   "outputs": [],
   "source": [
    "def main():\n",
    "    users_ref = db.collection(u'utenti').where(u\"newsletter\", \"==\", True)\n",
    "    docs = users_ref.stream()\n",
    "    destinatari = [doc.to_dict()[\"email\"] for doc in docs]\n",
    "\n",
    "    s = SMTP_SSL(host='smtp.office365.com', port=587)\n",
    "    s.login(password.mail, password.password)\n",
    "    msg = EmailMessage()\n",
    "    msg.set_content(messaggio)\n",
    "    msg['Subject'] = 'AEAround The World'\n",
    "    msg['From'] = password.mail\n",
    "    msg['Bcc'] = \", \".join(destinatari)\n",
    "    s.send_message(msg)\n",
    "    s.quit()"
   ]
  }
 ],
 "metadata": {
  "kernelspec": {
   "display_name": "ML",
   "language": "python",
   "name": "ml"
  },
  "language_info": {
   "codemirror_mode": {
    "name": "ipython",
    "version": 3
   },
   "file_extension": ".py",
   "mimetype": "text/x-python",
   "name": "python",
   "nbconvert_exporter": "python",
   "pygments_lexer": "ipython3",
   "version": "3.6.8"
  }
 },
 "nbformat": 4,
 "nbformat_minor": 2
}
